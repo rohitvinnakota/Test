{
 "cells": [
  {
   "cell_type": "code",
   "execution_count": 1,
   "metadata": {
    "collapsed": false
   },
   "outputs": [
    {
     "name": "stdout",
     "output_type": "stream",
     "text": [
      "{'member': 7273, 'bounds': 1, 'nd': 4202209, 'node': 3698501, 'relation': 1646, 'osm': 1, 'way': 465338, 'tag': 1435284}\n"
     ]
    },
    {
     "data": {
      "text/plain": [
       "'def audit():\\n    for event, elem in ET.inerparse(osm_file, events=(\"start\",)):\\n        if elem.tag == \"way\":\\n            for tag in elem.iter(\"tag\"):\\n                if (is_street_name(tag):\\n                    #Do stuff\\n                #Else if zipcode            \\n                    \\n            pass'"
      ]
     },
     "execution_count": 1,
     "metadata": {},
     "output_type": "execute_result"
    }
   ],
   "source": [
    "import xml.etree.ElementTree as ET\n",
    "from collections import defaultdict\n",
    "from bs4 import BeautifulSoup\n",
    "\n",
    "class Audits():\n",
    "    def audit_street():\n",
    "    # audit street type\n",
    "        pass\n",
    "\n",
    "    def is_street_name(elem):\n",
    "        if (elem.attrib['k'] == \"addr:street\"):\n",
    "            return True\n",
    "\n",
    "    def audit_zipcode():\n",
    "    # audit zipcode\n",
    "        pass\n",
    "\n",
    "    def count_tags(filename):\n",
    "        tree = ET.parse(filename)\n",
    "        root = tree.getroot()\n",
    "\n",
    "        dict1={}\n",
    "        dict1[root.tag] = 1\n",
    "        dup_list = []\n",
    "        for a in root.findall('.//'):\n",
    "            if a.tag not in dup_list:\n",
    "                dup_list.append(a.tag)\n",
    "                dict1[a.tag] = 1\n",
    "            else:\n",
    "                dict1[a.tag]+= 1\n",
    "\n",
    "        return dict1\n",
    "\n",
    "print(Audits.count_tags('GGGG.osm'))\n",
    "\n",
    "# Audit function that cleans up streetnames, zipcodes, and \n",
    "\"\"\"def audit():\n",
    "    for event, elem in ET.inerparse(osm_file, events=(\"start\",)):\n",
    "        if elem.tag == \"way\":\n",
    "            for tag in elem.iter(\"tag\"):\n",
    "                if (is_street_name(tag):\n",
    "                    #Do stuff\n",
    "                #Else if zipcode            \n",
    "                    \n",
    "            pass\"\"\"\n",
    "\n",
    "#Basic Descriptive data\n"
   ]
  },
  {
   "cell_type": "code",
   "execution_count": 2,
   "metadata": {
    "collapsed": false
   },
   "outputs": [],
   "source": [
    "soup1 = BeautifulSoup(open(\"Streets.html\"),\"lxml\")"
   ]
  },
  {
   "cell_type": "code",
   "execution_count": 3,
   "metadata": {
    "collapsed": false
   },
   "outputs": [
    {
     "name": "stdout",
     "output_type": "stream",
     "text": [
      "['Street Type', 'Abbreviation (Mail)', 'Abbreviation (Edmonton)', None, None, None, 'Abbey', 'ABBEY', '–', 'Acres', 'ACRES', 'AC', 'Alley or AllÃ©e', 'ALLEY or ALLÃ‰E', 'AL', 'Autoroute', 'AUT', '–', 'Avenue', 'AVE or AV', 'AV', 'Bay', 'BAY', 'BA', 'Beach', 'BEACH', 'BE', 'Bend', 'BEND', 'BN', 'Boulevard', 'BLVD or BOUL', 'BV', 'By-pass', 'BYPASS', '–', 'Byway', 'BYWAY', '–', 'Campus', 'CAMPUS', '–', 'Cape', 'CAPE', 'CA', 'CarrÃ©', 'CAR', '–', 'Carrefour', 'CARREF', '–', 'Castle', '–', 'CS', 'Centre', 'CTR or C', 'CE', 'Cercle', 'CERCLE', '–', 'Chase', 'CHASE', '–', 'Chemin', 'CH', '–', 'Circle', 'CIR', 'CI', 'Circuit', 'CIRCT', '–', 'Close', 'CLOSE', 'CL', 'Common', 'COMMON', 'CM', 'Concession', 'CONC', '–', 'Corners', 'CRNRS', '–', 'CÃ´te', 'CÃ”TE', '–', 'Cour', 'COUR', '–', 'Cours', 'COURS', '–', 'Court', 'CRT', 'CO', 'Cove', 'COVE', 'CV', 'Crescent or Croissant', 'CRES or CROIS', 'CR', 'Crest', '–', 'CT', 'Cross', '–', 'CX', 'Crossing', 'CROSS', 'XS', 'Cul-de-sac', 'CDS', '–', 'Dale', 'DALE', '–', 'Dell', 'DELL', '–', 'Diversion', 'DIVERS', 'DI', 'Downs', 'DOWNS', 'DO', 'Drive', 'DR', 'DR', 'Ã‰changeur', 'Ã‰CH', '–', 'End', 'END', 'EN', 'Esplanade', 'ESPL', '–', 'Estates', 'ESTATE', 'ES', 'Expressway', 'EXPY', '–', 'Extension', 'EXTEN', '–', 'Farm', 'FARM', '–', 'Field', 'FIELD', '–', 'Forest', 'FOREST', '–', 'Freeway', 'FWY', 'FR', 'Front', 'FRONT', '–', 'Gardens', 'GDNS', 'GD', 'Gate', 'GATE', 'GA or GT', 'Gateway', '–', 'GW', 'Glade', 'GLADE', '–', 'Glen', 'GLEN', 'GL', 'Green', 'GREEN', 'GR', 'Grounds', 'GRNDS', '–', 'Grove', 'GROVE', 'GV', 'Hall', '–', 'HALL', 'Harbour', 'HARBR', 'HB', 'Haven', '–', 'HA', 'Heath', 'HEATH', 'HE', 'Heights', 'HTS', 'HT', 'Highlands', 'HGHLDS', '–', 'Highway', 'HWY', 'HI', 'Hill or Hills', 'HILL', 'HL', 'Hollow', 'HOLLOW', 'HO', 'ÃŽle', 'ÃŽLE', '–', 'Impasse', 'IMP', '–', 'Inlet', 'INLET', 'IN', 'Island', 'ISLAND', 'IS', 'Keep', '–', 'KE', 'Key', 'KEY', 'KY', 'Knoll', 'KNOLL', 'KN', 'Lake', None, 'LK', 'Landing', 'LANDNG', 'LD', 'Lane', 'LANE', 'LN', 'Limits', 'LMTS', '–', 'Line', 'LINE', '–', 'Link', 'LINK', 'LI', 'Lookout', 'LKOUT', '–', 'Loop', 'LOOP', 'LO', 'Mall', 'MALL', 'MA', 'Manor', 'MANOR', 'MR', 'Maze', 'MAZE', 'MZ', 'Meadow or Meadows', 'MEADOW', 'MD', 'Mews', 'MEWS', 'ME', 'MontÃ©e', 'MONTÃ‰E', '–', 'Moor', 'MOOR', '–', 'Mount', 'MOUNT', 'MT', 'Mountain', 'MTN', '–', 'Not Applicable', '–', 'NA', 'Oaks', '–', 'OA', 'Orchard', 'ORCH', '–', 'Parade', 'PARADE', 'PR', 'Park or Parc', 'PK or PARC', 'PA', 'Parkway', 'PKY', 'PK', 'Passage', 'PASS', 'PS', 'Path', 'PATH', 'PH', 'Pathway', 'PTWAY', '–', 'Pines', 'PINES', '–', 'Place', 'PL or PLACE', 'PL', 'Plateau', 'PLAT', '–', 'Plaza', 'PLAZA', 'PZ', 'Point or Pointe', 'PT or POINTE', 'PT', 'Pond', '–', 'PD', 'Port', 'PORT', '–', 'Private', 'PVT', '–', 'Promenade', 'PROM', 'PM', 'Quai', 'QUAI', '–', 'Quary', '–', 'QU', 'Quay', 'QUAY', 'QY', 'Ramp', 'RAMP', '–', 'Ranch', '–', 'RA', 'Rang', 'RANG', '–', 'Range', 'RG', '–', 'Ridge', 'RIDGE', 'RG', 'Rise', 'RISE', 'RI', 'Road', 'RD', 'RD', 'Rond-point', 'RDPT', '–', 'Route', 'RTE', '–', 'Row', 'ROW', 'RO', 'Rue', 'RUE', '–', 'Ruelle', 'RLE', '–', 'Run', 'RUN', 'RU', 'Sentier', 'SENT', '–', 'Shores', '–', 'SH', 'Springs', '–', 'SP', 'Square', 'SQ', 'SQ', 'Street', 'ST', 'ST', 'Subdivision', 'SUBDIV', '–', 'Summit', '–', 'SU', 'Terrace or Terrasse', 'TERR or TSSE', 'TC', 'Thicket', 'THICK', '–', 'Towers', 'TOWERS', '–', 'Townline', 'TLINE', '–', 'Trail', 'TRAIL', 'TR', 'Turnabout', 'TRNABT', '–', 'Two', '–', 'TW', 'Vale', 'VALE', 'VA', 'Via', 'VIA', '–', 'View', 'VIEW', 'VW', 'Village', 'VILLGE', 'VG', 'Villa or Villas', 'VILLA or VILLAS', 'VI', 'Vista', 'VISTA', '–', 'Voie', 'VOIE', 'VS', 'Walk or Walkway', 'WALK', 'WK', 'Way', 'WAY', '–', 'Wharf', 'WHARF', '–', 'Wood or Woods', 'WOOD or WOODS', 'WO', 'Wynd', 'WYND', 'WY']\n"
     ]
    }
   ],
   "source": [
    "street_list = []\n",
    "\n",
    "tables = (soup1.findAll('tbody'))         #returns list of all the tables. \n",
    "                                      #there is only one table in this case\n",
    "    \n",
    "row_list = tables[0].findAll('tr')\n",
    "for row in row_list:\n",
    "    name_list = row.findAll('td')\n",
    "    for name in name_list:\n",
    "        street = name.string\n",
    "        street_list.append(street)\n",
    "            \n",
    "print(street_list)"
   ]
  },
  {
   "cell_type": "code",
   "execution_count": null,
   "metadata": {
    "collapsed": true
   },
   "outputs": [],
   "source": []
  },
  {
   "cell_type": "code",
   "execution_count": 4,
   "metadata": {
    "collapsed": false
   },
   "outputs": [
    {
     "name": "stdout",
     "output_type": "stream",
     "text": [
      "['Abbey', 'Acres', 'Alley or AllÃ©e', 'Autoroute', 'Avenue', 'Bay', 'Beach', 'Bend', 'Boulevard', 'By-pass', 'Byway', 'Campus', 'Cape', 'CarrÃ©', 'Carrefour', 'Castle', 'Centre', 'Cercle', 'Chase', 'Chemin', 'Circle', 'Circuit', 'Close', 'Common', 'Concession', 'Corners', 'CÃ´te', 'Cour', 'Cours', 'Court', 'Cove', 'Crescent or Croissant', 'Crest', 'Cross', 'Crossing', 'Cul-de-sac', 'Dale', 'Dell', 'Diversion', 'Downs', 'Drive', 'Ã‰changeur', 'End', 'Esplanade', 'Estates', 'Expressway', 'Extension', 'Farm', 'Field', 'Forest', 'Freeway', 'Front', 'Gardens', 'Gate', 'Gateway', 'Glade', 'Glen', 'Green', 'Grounds', 'Grove', 'Hall', 'Harbour', 'Haven', 'Heath', 'Heights', 'Highlands', 'Highway', 'Hill or Hills', 'Hollow', 'ÃŽle', 'Impasse', 'Inlet', 'Island', 'Keep', 'Key', 'Knoll', 'Lake', 'Landing', 'Lane', 'Limits', 'Line', 'Link', 'Lookout', 'Loop', 'Mall', 'Manor', 'Maze', 'Meadow or Meadows', 'Mews', 'MontÃ©e', 'Moor', 'Mount', 'Mountain', 'Not Applicable', 'Oaks', 'Orchard', 'Parade', 'Park or Parc', 'Parkway', 'Passage', 'Path', 'Pathway', 'Pines', 'Place', 'Plateau', 'Plaza', 'Point or Pointe', 'Pond', 'Port', 'Private', 'Promenade', 'Quai', 'Quary', 'Quay', 'Ramp', 'Ranch', 'Rang', 'Range', 'Ridge', 'Rise', 'Road', 'Rond-point', 'Route', 'Row', 'Rue', 'Ruelle', 'Run', 'Sentier', 'Shores', 'Springs', 'Square', 'Street', 'Subdivision', 'Summit', 'Terrace or Terrasse', 'Thicket', 'Towers', 'Townline', 'Trail', 'Turnabout', 'Two', 'Vale', 'Via', 'View', 'Village', 'Villa or Villas', 'Vista', 'Voie', 'Walk or Walkway', 'Way', 'Wharf', 'Wood or Woods', 'Wynd']\n"
     ]
    }
   ],
   "source": [
    "street_list = street_list[6:]\n",
    "final_street_list = []\n",
    "for i in range(len(street_list)):\n",
    "    if i % 3 == 0:\n",
    "        final_street_list.append(street_list[i])\n",
    "print(final_street_list)\n",
    "#Split the or's"
   ]
  },
  {
   "cell_type": "code",
   "execution_count": 5,
   "metadata": {
    "collapsed": false
   },
   "outputs": [
    {
     "name": "stdout",
     "output_type": "stream",
     "text": [
      "['Abbey', 'Acres', 'Autoroute', 'Avenue', 'Bay', 'Beach', 'Bend', 'Boulevard', 'By-pass', 'Byway', 'Campus', 'Cape', 'CarrÃ©', 'Carrefour', 'Castle', 'Centre', 'Cercle', 'Chase', 'Chemin', 'Circle', 'Circuit', 'Close', 'Common', 'Concession', 'Corners', 'CÃ´te', 'Cour', 'Cours', 'Court', 'Cove', 'Crest', 'Cross', 'Crossing', 'Cul-de-sac', 'Dale', 'Dell', 'Diversion', 'Downs', 'Drive', 'Ã‰changeur', 'End', 'Esplanade', 'Estates', 'Expressway', 'Extension', 'Farm', 'Field', 'Forest', 'Freeway', 'Front', 'Gardens', 'Gate', 'Gateway', 'Glade', 'Glen', 'Green', 'Grounds', 'Grove', 'Hall', 'Harbour', 'Haven', 'Heath', 'Heights', 'Highlands', 'Highway', 'Hollow', 'ÃŽle', 'Impasse', 'Inlet', 'Island', 'Keep', 'Key', 'Knoll', 'Lake', 'Landing', 'Lane', 'Limits', 'Line', 'Link', 'Lookout', 'Loop', 'Mall', 'Manor', 'Maze', 'Mews', 'MontÃ©e', 'Moor', 'Mount', 'Mountain', 'Not Applicable', 'Oaks', 'Orchard', 'Parade', 'Parkway', 'Passage', 'Path', 'Pathway', 'Pines', 'Place', 'Plateau', 'Plaza', 'Pond', 'Port', 'Private', 'Promenade', 'Quai', 'Quary', 'Quay', 'Ramp', 'Ranch', 'Rang', 'Range', 'Ridge', 'Rise', 'Road', 'Rond-point', 'Route', 'Row', 'Rue', 'Ruelle', 'Run', 'Sentier', 'Shores', 'Springs', 'Square', 'Street', 'Subdivision', 'Summit', 'Thicket', 'Towers', 'Townline', 'Trail', 'Turnabout', 'Two', 'Vale', 'Via', 'View', 'Village', 'Vista', 'Voie', 'Way', 'Wharf', 'Wynd', 'Alley', 'AllÃ©e', 'Crescent', 'Croissant', 'Hill', 'Hills', 'Meadow', 'Meadows', 'Park', 'Parc', 'Point', 'Pointe', 'Terrace', 'Terrasse', 'Villa', 'Villas', 'Walk', 'Walkway', 'Wood', 'Woods']\n"
     ]
    }
   ],
   "source": [
    "for item in final_street_list:\n",
    "    if item.find(\" or\") != -1:\n",
    "        N = item.split()\n",
    "        final_street_list.append(N[0])\n",
    "        final_street_list.append(N[2])\n",
    "        final_street_list.remove(item)\n",
    "        \n",
    "print(final_street_list)\n",
    "    "
   ]
  },
  {
   "cell_type": "markdown",
   "metadata": {
    "collapsed": true
   },
   "source": [
    "Zipcodes in Edmonton must have the following format:\n",
    "\n",
    "1)The first 3 letters must be T5A\n",
    "2)The next character must be 0,1, or 2\n",
    "3)The next character must be an alphabet\n",
    "4)The next character must be a number between 1-9\n",
    "5)Overall the zipcode's length must be 6\n",
    "\n",
    "We can check if there are any zipcodes that violate these rules and audit them accordingly. "
   ]
  },
  {
   "cell_type": "markdown",
   "metadata": {},
   "source": [
    "http://gimme-shelter.com/term-2/steet-types-designations-abbreviations-50006/\n",
    "\n",
    "https://www.crummy.com/software/BeautifulSoup/bs3/documentation.html#The%20basic%20find%20method:%20findAll(name,%20attrs,%20recursive,%20text,%20limit,%20**kwargs)"
   ]
  }
 ],
 "metadata": {
  "anaconda-cloud": {},
  "kernelspec": {
   "display_name": "Python [Root]",
   "language": "python",
   "name": "Python [Root]"
  },
  "language_info": {
   "codemirror_mode": {
    "name": "ipython",
    "version": 3
   },
   "file_extension": ".py",
   "mimetype": "text/x-python",
   "name": "python",
   "nbconvert_exporter": "python",
   "pygments_lexer": "ipython3",
   "version": "3.5.1"
  }
 },
 "nbformat": 4,
 "nbformat_minor": 0
}
